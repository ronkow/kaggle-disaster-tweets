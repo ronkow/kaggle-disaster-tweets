{
 "cells": [
  {
   "cell_type": "code",
   "execution_count": 1,
   "metadata": {},
   "outputs": [],
   "source": [
    "import pandas as pd\n",
    "import os\n",
    "import time\n",
    "import utils\n",
    "import numpy as np\n",
    "import warnings\n",
    "warnings.filterwarnings('ignore')"
   ]
  },
  {
   "cell_type": "code",
   "execution_count": 2,
   "metadata": {},
   "outputs": [],
   "source": [
    "DATA_DIR = \"data/\"\n",
    "DATA_FILE_TRAIN = os.path.join(DATA_DIR, \"bowfinal/train_bow.csv\")\n",
    "DATA_FILE_TEST = os.path.join(DATA_DIR, \"bowfinal/test_bow.csv\")"
   ]
  },
  {
   "cell_type": "code",
   "execution_count": 3,
   "metadata": {},
   "outputs": [],
   "source": [
    "df = utils.csv_to_dataframe(DATA_FILE_TRAIN)\n",
    "\n",
    "c = len(df.columns)"
   ]
  },
  {
   "cell_type": "code",
   "execution_count": 4,
   "metadata": {},
   "outputs": [
    {
     "data": {
      "text/html": [
       "<div>\n",
       "<style scoped>\n",
       "    .dataframe tbody tr th:only-of-type {\n",
       "        vertical-align: middle;\n",
       "    }\n",
       "\n",
       "    .dataframe tbody tr th {\n",
       "        vertical-align: top;\n",
       "    }\n",
       "\n",
       "    .dataframe thead th {\n",
       "        text-align: right;\n",
       "    }\n",
       "</style>\n",
       "<table border=\"1\" class=\"dataframe\">\n",
       "  <thead>\n",
       "    <tr style=\"text-align: right;\">\n",
       "      <th></th>\n",
       "      <th>0</th>\n",
       "      <th>1</th>\n",
       "      <th>2</th>\n",
       "      <th>3</th>\n",
       "      <th>4</th>\n",
       "      <th>5</th>\n",
       "      <th>6</th>\n",
       "      <th>7</th>\n",
       "      <th>8</th>\n",
       "      <th>9</th>\n",
       "      <th>...</th>\n",
       "      <th>3615</th>\n",
       "      <th>3616</th>\n",
       "      <th>3617</th>\n",
       "      <th>3618</th>\n",
       "      <th>3619</th>\n",
       "      <th>3620</th>\n",
       "      <th>3621</th>\n",
       "      <th>3622</th>\n",
       "      <th>3623</th>\n",
       "      <th>3624</th>\n",
       "    </tr>\n",
       "  </thead>\n",
       "  <tbody>\n",
       "    <tr>\n",
       "      <td>0</td>\n",
       "      <td>0</td>\n",
       "      <td>0</td>\n",
       "      <td>0</td>\n",
       "      <td>0</td>\n",
       "      <td>0</td>\n",
       "      <td>0</td>\n",
       "      <td>0</td>\n",
       "      <td>0</td>\n",
       "      <td>0</td>\n",
       "      <td>0</td>\n",
       "      <td>...</td>\n",
       "      <td>0</td>\n",
       "      <td>0</td>\n",
       "      <td>0</td>\n",
       "      <td>0</td>\n",
       "      <td>0</td>\n",
       "      <td>0</td>\n",
       "      <td>0</td>\n",
       "      <td>0</td>\n",
       "      <td>0</td>\n",
       "      <td>1</td>\n",
       "    </tr>\n",
       "    <tr>\n",
       "      <td>1</td>\n",
       "      <td>0</td>\n",
       "      <td>0</td>\n",
       "      <td>0</td>\n",
       "      <td>0</td>\n",
       "      <td>0</td>\n",
       "      <td>0</td>\n",
       "      <td>0</td>\n",
       "      <td>0</td>\n",
       "      <td>0</td>\n",
       "      <td>0</td>\n",
       "      <td>...</td>\n",
       "      <td>0</td>\n",
       "      <td>0</td>\n",
       "      <td>0</td>\n",
       "      <td>0</td>\n",
       "      <td>0</td>\n",
       "      <td>0</td>\n",
       "      <td>0</td>\n",
       "      <td>0</td>\n",
       "      <td>0</td>\n",
       "      <td>1</td>\n",
       "    </tr>\n",
       "    <tr>\n",
       "      <td>2</td>\n",
       "      <td>0</td>\n",
       "      <td>0</td>\n",
       "      <td>0</td>\n",
       "      <td>0</td>\n",
       "      <td>0</td>\n",
       "      <td>0</td>\n",
       "      <td>0</td>\n",
       "      <td>0</td>\n",
       "      <td>0</td>\n",
       "      <td>0</td>\n",
       "      <td>...</td>\n",
       "      <td>0</td>\n",
       "      <td>0</td>\n",
       "      <td>0</td>\n",
       "      <td>0</td>\n",
       "      <td>0</td>\n",
       "      <td>0</td>\n",
       "      <td>0</td>\n",
       "      <td>0</td>\n",
       "      <td>0</td>\n",
       "      <td>1</td>\n",
       "    </tr>\n",
       "  </tbody>\n",
       "</table>\n",
       "<p>3 rows × 3625 columns</p>\n",
       "</div>"
      ],
      "text/plain": [
       "   0     1     2     3     4     5     6     7     8     9     ...  3615  \\\n",
       "0     0     0     0     0     0     0     0     0     0     0  ...     0   \n",
       "1     0     0     0     0     0     0     0     0     0     0  ...     0   \n",
       "2     0     0     0     0     0     0     0     0     0     0  ...     0   \n",
       "\n",
       "   3616  3617  3618  3619  3620  3621  3622  3623  3624  \n",
       "0     0     0     0     0     0     0     0     0     1  \n",
       "1     0     0     0     0     0     0     0     0     1  \n",
       "2     0     0     0     0     0     0     0     0     1  \n",
       "\n",
       "[3 rows x 3625 columns]"
      ]
     },
     "execution_count": 4,
     "metadata": {},
     "output_type": "execute_result"
    }
   ],
   "source": [
    "column_labels = list(range(0, c))\n",
    "df.columns = column_labels\n",
    "df.head(3)"
   ]
  },
  {
   "cell_type": "code",
   "execution_count": 5,
   "metadata": {},
   "outputs": [
    {
     "name": "stdout",
     "output_type": "stream",
     "text": [
      "(7613, 3624)\n",
      "(7613,)\n",
      "\n",
      "(7613, 3624)\n",
      "\n",
      "(7613,)\n",
      "<class 'numpy.ndarray'>\n",
      "<class 'numpy.ndarray'>\n"
     ]
    }
   ],
   "source": [
    "array = df.values\n",
    "x = array[:,0:c-1]   # feature values\n",
    "y = array[:,c-1]     # targets\n",
    "\n",
    "#validation_size = 0.0000001\n",
    "#seed = 11\n",
    "#x_train, x_validation, y_train, y_validation = ms.train_test_split(x, y, test_size=validation_size, random_state=seed)\n",
    "\n",
    "x_train = x\n",
    "y_train = y\n",
    "\n",
    "print(x.shape)\n",
    "print(y.shape)\n",
    "print('')\n",
    "print(x_train.shape)\n",
    "#print(x_validation.shape)\n",
    "print('')\n",
    "print(y_train.shape)\n",
    "\n",
    "\n",
    "print(type(x_train))\n",
    "print(type(y_train))"
   ]
  },
  {
   "cell_type": "markdown",
   "metadata": {},
   "source": [
    "# Cross validation 5, and F1 Scoring#"
   ]
  },
  {
   "cell_type": "code",
   "execution_count": 8,
   "metadata": {},
   "outputs": [],
   "source": [
    "from sklearn.model_selection import cross_val_score\n",
    "from sklearn.model_selection import GridSearchCV\n",
    "from sklearn import model_selection as ms\n",
    "\n",
    "num_folds = 5\n",
    "seed = 11\n",
    "scoring = 'f1'\n",
    "\n",
    "kfold = ms.KFold(n_splits=num_folds, random_state=seed, shuffle=True)"
   ]
  },
  {
   "cell_type": "markdown",
   "metadata": {},
   "source": [
    "# Multinomial Naive Bayes#"
   ]
  },
  {
   "cell_type": "code",
   "execution_count": 18,
   "metadata": {},
   "outputs": [
    {
     "name": "stdout",
     "output_type": "stream",
     "text": [
      "F1 Score:  0.7392902768706993 Parameters:  {'alpha': 35} Time Elapsed:  20.079333305358887\n"
     ]
    }
   ],
   "source": [
    "from sklearn.naive_bayes import MultinomialNB \n",
    "\n",
    "start = time.time()\n",
    "\n",
    "parameters = {'alpha':[10,35,36]}\n",
    "multinb = MultinomialNB()\n",
    "MultiNBModel = (GridSearchCV(multinb, parameters)).fit(x_train, y_train)\n",
    "scoreMultiNB = cross_val_score(MultiNBModel,  x_train, y_train, cv= kfold, scoring = scoring)\n",
    "\n",
    "elapsed_time = time.time() - start\n",
    "\n",
    "print(\"F1 Score: \",  scoreMultiNB.mean(), \"Parameters: \", MultiNBModel.best_params_, \"Time Elapsed: \",  elapsed_time)"
   ]
  },
  {
   "cell_type": "markdown",
   "metadata": {},
   "source": [
    "# Bernoulli Naive Bayes#"
   ]
  },
  {
   "cell_type": "code",
   "execution_count": 30,
   "metadata": {},
   "outputs": [
    {
     "name": "stdout",
     "output_type": "stream",
     "text": [
      "F1 Score:  0.7622666002465467 Parameters:  {'alpha': 1.5} Time Elapsed:  11.592494010925293\n"
     ]
    }
   ],
   "source": [
    "from sklearn.naive_bayes import BernoulliNB \n",
    "\n",
    "start = time.time()\n",
    "\n",
    "parameters = {'alpha':[1.5]}\n",
    "bernnb = BernoulliNB()\n",
    "BernNBModel = (GridSearchCV(bernnb, parameters)).fit(x_train, y_train)\n",
    "scoreBernNB = cross_val_score(BernNBModel,  x_train, y_train, cv= kfold, scoring = scoring)\n",
    "\n",
    "elapsed_time = time.time() - start\n",
    "\n",
    "print(\"F1 Score: \",  scoreBernNB.mean(), \"Parameters: \", BernNBModel.best_params_, \"Time Elapsed: \",  elapsed_time)"
   ]
  },
  {
   "cell_type": "markdown",
   "metadata": {},
   "source": [
    "# Linear SVC#"
   ]
  },
  {
   "cell_type": "code",
   "execution_count": 20,
   "metadata": {},
   "outputs": [
    {
     "name": "stdout",
     "output_type": "stream",
     "text": [
      "F1 Score:  0.7451768672088044 Parameters:  {'C': 0.01, 'loss': 'squared_hinge', 'multi_class': 'ovr'} Time Elapsed:  144.63518643379211\n"
     ]
    }
   ],
   "source": [
    "from sklearn.svm import LinearSVC\n",
    "\n",
    "start = time.time()\n",
    "\n",
    "parameters = { 'C':[0.01, 0.1, 1, 10], 'loss':('hinge', 'squared_hinge'),\n",
    "              'multi_class':('ovr', 'crammer_singer') }\n",
    "linearsvc = LinearSVC()\n",
    "LinearSVCModel = (GridSearchCV(linearsvc, parameters)).fit(x_train, y_train)\n",
    "scoreLinearSVC = cross_val_score(LinearSVCModel,  x_train, y_train, cv= kfold, scoring = scoring)\n",
    "\n",
    "elapsed_time = time.time() - start\n",
    "\n",
    "print(\"F1 Score: \",  scoreLinearSVC.mean(), \"Parameters: \", LinearSVCModel.best_params_, \"Time Elapsed: \",  elapsed_time)"
   ]
  },
  {
   "cell_type": "markdown",
   "metadata": {},
   "source": [
    "# K-nearest Neighbors #"
   ]
  },
  {
   "cell_type": "code",
   "execution_count": 50,
   "metadata": {},
   "outputs": [
    {
     "name": "stdout",
     "output_type": "stream",
     "text": [
      "F1 Score:  0.5671974483141675 Parameters:  {'n_neighbors': 5} Time Elapsed:  3086.262533187866\n"
     ]
    }
   ],
   "source": [
    "from sklearn import neighbors\n",
    "\n",
    "start = time.time()\n",
    "\n",
    "parameters = {'n_neighbors':[5, 7, 11]}\n",
    "knn = neighbors.KNeighborsClassifier()\n",
    "KNNModel = (GridSearchCV(knn, parameters)).fit(x_train, y_train)\n",
    "scoreKNN = cross_val_score(KNNModel,  x_train, y_train,cv= kfold, scoring = scoring)\n",
    "\n",
    "elapsed_time = time.time() - start\n",
    "\n",
    "print(\"F1 Score: \",  scoreKNN.mean(), \"Parameters: \", KNNModel.best_params_, \"Time Elapsed: \",  elapsed_time)"
   ]
  },
  {
   "cell_type": "markdown",
   "metadata": {},
   "source": [
    "# Decision Tree Classifier #"
   ]
  },
  {
   "cell_type": "code",
   "execution_count": 42,
   "metadata": {},
   "outputs": [
    {
     "name": "stdout",
     "output_type": "stream",
     "text": [
      "F1 Score:  0.7049455066239487 Parameters:  {'min_samples_split': 3} Time Elapsed:  1331.8315510749817\n"
     ]
    }
   ],
   "source": [
    "from sklearn import tree\n",
    "\n",
    "start = time.time()\n",
    "\n",
    "parameters = {'min_samples_split':[2, 3 ,4]}\n",
    "decisiontc =  tree.DecisionTreeClassifier()\n",
    "DecisionTreeCModel = (GridSearchCV(decisiontc, parameters)).fit(x_train, y_train)\n",
    "scoreDecisionTreeC = cross_val_score(DecisionTreeCModel,  x_train, y_train,cv= kfold, scoring = scoring)\n",
    "\n",
    "elapsed_time = time.time() - start\n",
    "\n",
    "print(\"F1 Score: \",  scoreDecisionTreeC.mean(), \"Parameters: \", DecisionTreeCModel.best_params_, \"Time Elapsed: \",  \n",
    "      elapsed_time)"
   ]
  },
  {
   "cell_type": "markdown",
   "metadata": {},
   "source": [
    "# Random Forest Classifier #"
   ]
  },
  {
   "cell_type": "code",
   "execution_count": 21,
   "metadata": {},
   "outputs": [
    {
     "name": "stdout",
     "output_type": "stream",
     "text": [
      "F1 Score:  0.732365851254758 Parameters:  {'n_estimators': 100} Time Elapsed:  808.0385329723358\n"
     ]
    }
   ],
   "source": [
    "from sklearn import ensemble\n",
    "\n",
    "start = time.time()\n",
    "\n",
    "\n",
    "randomfc1 =  ensemble.RandomForestClassifier(n_estimators  = 500)\n",
    "randomForestC1Model = randomfc1.fit(x_train, y_train)\n",
    "scorerandomForestC1 = cross_val_score(randomForestC1Model,  x_train, y_train,cv= kfold, scoring = scoring)\n",
    "\n",
    "elapsed_time = time.time() - start\n",
    "\n",
    "print(\"F1 Score: \",  scorerandomForestC1.mean(), \"Time Elapsed: \",  elapsed_time)"
   ]
  },
  {
   "cell_type": "markdown",
   "metadata": {},
   "source": [
    "# AdaBoost Classifier #"
   ]
  },
  {
   "cell_type": "code",
   "execution_count": 22,
   "metadata": {},
   "outputs": [
    {
     "name": "stdout",
     "output_type": "stream",
     "text": [
      "F1 Score:  0.6884400442712162 Parameters:  {'n_estimators': 50} Time Elapsed:  1401.2611541748047\n"
     ]
    }
   ],
   "source": [
    "start = time.time()\n",
    "\n",
    "parameters = {'n_estimators':[50,75, 100]}\n",
    "adaboost = ensemble.AdaBoostClassifier()\n",
    "adaBoostModel = (GridSearchCV(adaboost, parameters)).fit(x_train, y_train)\n",
    "scoreadaBoost = cross_val_score(adaBoostModel,  x_train, y_train,cv= kfold, scoring = scoring)\n",
    "\n",
    "elapsed_time = time.time() - start\n",
    "\n",
    "print(\"F1 Score: \",  scoreadaBoost.mean(), \"Parameters: \", adaBoostModel.best_params_, \"Time Elapsed: \",  elapsed_time)"
   ]
  },
  {
   "cell_type": "markdown",
   "metadata": {},
   "source": [
    "# Gradient Boosting Classifier #"
   ]
  },
  {
   "cell_type": "code",
   "execution_count": 23,
   "metadata": {},
   "outputs": [
    {
     "name": "stdout",
     "output_type": "stream",
     "text": [
      "F1 Score:  0.7251468470315793 Parameters:  {'learning_rate': 1, 'n_estimators': 50} Time Elapsed:  7661.863627910614\n"
     ]
    }
   ],
   "source": [
    "start = time.time()\n",
    "\n",
    "parameters = {'learning_rate':[1, 1.5,2], 'n_estimators':[50, 75, 100]}\n",
    "gradientboostc = ensemble.GradientBoostingClassifier()\n",
    "gradientBoostCModel = (GridSearchCV(gradientboostc, parameters)).fit(x_train, y_train)\n",
    "scoregradientBoostC = cross_val_score(gradientBoostCModel,  x_train, y_train,cv= kfold, scoring = scoring)\n",
    "\n",
    "elapsed_time = time.time() - start\n",
    "\n",
    "print(\"F1 Score: \",  scoregradientBoostC.mean(), \"Parameters: \", gradientBoostCModel.best_params_,\n",
    "      \"Time Elapsed: \",  elapsed_time)"
   ]
  },
  {
   "cell_type": "markdown",
   "metadata": {},
   "source": [
    "# KAGGLE TEST SET #"
   ]
  },
  {
   "cell_type": "code",
   "execution_count": 10,
   "metadata": {},
   "outputs": [
    {
     "data": {
      "text/html": [
       "<div>\n",
       "<style scoped>\n",
       "    .dataframe tbody tr th:only-of-type {\n",
       "        vertical-align: middle;\n",
       "    }\n",
       "\n",
       "    .dataframe tbody tr th {\n",
       "        vertical-align: top;\n",
       "    }\n",
       "\n",
       "    .dataframe thead th {\n",
       "        text-align: right;\n",
       "    }\n",
       "</style>\n",
       "<table border=\"1\" class=\"dataframe\">\n",
       "  <thead>\n",
       "    <tr style=\"text-align: right;\">\n",
       "      <th></th>\n",
       "      <th>kw_ablaze</th>\n",
       "      <th>kw_accident</th>\n",
       "      <th>kw_aftershock</th>\n",
       "      <th>kw_airplaneaccident</th>\n",
       "      <th>kw_ambulance</th>\n",
       "      <th>kw_annihilated</th>\n",
       "      <th>kw_annihilation</th>\n",
       "      <th>kw_apocalypse</th>\n",
       "      <th>kw_armageddon</th>\n",
       "      <th>kw_army</th>\n",
       "      <th>...</th>\n",
       "      <th>ûïa</th>\n",
       "      <th>ûïthe</th>\n",
       "      <th>ûïwe</th>\n",
       "      <th>ûïwhen</th>\n",
       "      <th>ûò</th>\n",
       "      <th>ûó</th>\n",
       "      <th>û÷extrem</th>\n",
       "      <th>û÷polit</th>\n",
       "      <th>åè</th>\n",
       "      <th>åê</th>\n",
       "    </tr>\n",
       "  </thead>\n",
       "  <tbody>\n",
       "    <tr>\n",
       "      <td>0</td>\n",
       "      <td>0</td>\n",
       "      <td>0</td>\n",
       "      <td>0</td>\n",
       "      <td>0</td>\n",
       "      <td>0</td>\n",
       "      <td>0</td>\n",
       "      <td>0</td>\n",
       "      <td>0</td>\n",
       "      <td>0</td>\n",
       "      <td>0</td>\n",
       "      <td>...</td>\n",
       "      <td>0</td>\n",
       "      <td>0</td>\n",
       "      <td>0</td>\n",
       "      <td>0</td>\n",
       "      <td>0</td>\n",
       "      <td>0</td>\n",
       "      <td>0</td>\n",
       "      <td>0</td>\n",
       "      <td>0</td>\n",
       "      <td>0</td>\n",
       "    </tr>\n",
       "    <tr>\n",
       "      <td>1</td>\n",
       "      <td>0</td>\n",
       "      <td>0</td>\n",
       "      <td>0</td>\n",
       "      <td>0</td>\n",
       "      <td>0</td>\n",
       "      <td>0</td>\n",
       "      <td>0</td>\n",
       "      <td>0</td>\n",
       "      <td>0</td>\n",
       "      <td>0</td>\n",
       "      <td>...</td>\n",
       "      <td>0</td>\n",
       "      <td>0</td>\n",
       "      <td>0</td>\n",
       "      <td>0</td>\n",
       "      <td>0</td>\n",
       "      <td>0</td>\n",
       "      <td>0</td>\n",
       "      <td>0</td>\n",
       "      <td>0</td>\n",
       "      <td>0</td>\n",
       "    </tr>\n",
       "    <tr>\n",
       "      <td>2</td>\n",
       "      <td>0</td>\n",
       "      <td>0</td>\n",
       "      <td>0</td>\n",
       "      <td>0</td>\n",
       "      <td>0</td>\n",
       "      <td>0</td>\n",
       "      <td>0</td>\n",
       "      <td>0</td>\n",
       "      <td>0</td>\n",
       "      <td>0</td>\n",
       "      <td>...</td>\n",
       "      <td>0</td>\n",
       "      <td>0</td>\n",
       "      <td>0</td>\n",
       "      <td>0</td>\n",
       "      <td>0</td>\n",
       "      <td>0</td>\n",
       "      <td>0</td>\n",
       "      <td>0</td>\n",
       "      <td>0</td>\n",
       "      <td>0</td>\n",
       "    </tr>\n",
       "  </tbody>\n",
       "</table>\n",
       "<p>3 rows × 3624 columns</p>\n",
       "</div>"
      ],
      "text/plain": [
       "   kw_ablaze  kw_accident  kw_aftershock  kw_airplaneaccident  kw_ambulance  \\\n",
       "0          0            0              0                    0             0   \n",
       "1          0            0              0                    0             0   \n",
       "2          0            0              0                    0             0   \n",
       "\n",
       "   kw_annihilated  kw_annihilation  kw_apocalypse  kw_armageddon  kw_army  \\\n",
       "0               0                0              0              0        0   \n",
       "1               0                0              0              0        0   \n",
       "2               0                0              0              0        0   \n",
       "\n",
       "   ...  ûïa  ûïthe  ûïwe  ûïwhen  ûò  ûó  û÷extrem  û÷polit  åè  åê  \n",
       "0  ...     0       0      0        0    0    0          0         0   0   0  \n",
       "1  ...     0       0      0        0    0    0          0         0   0   0  \n",
       "2  ...     0       0      0        0    0    0          0         0   0   0  \n",
       "\n",
       "[3 rows x 3624 columns]"
      ]
     },
     "execution_count": 10,
     "metadata": {},
     "output_type": "execute_result"
    }
   ],
   "source": [
    "df_test = utils.csv_to_dataframe(DATA_FILE_TEST)\n",
    "df_test.head(3)    "
   ]
  },
  {
   "cell_type": "code",
   "execution_count": 11,
   "metadata": {},
   "outputs": [],
   "source": [
    "column_labels = list(range(0, c-1))\n",
    "df_test.columns = column_labels"
   ]
  },
  {
   "cell_type": "code",
   "execution_count": 12,
   "metadata": {},
   "outputs": [
    {
     "name": "stdout",
     "output_type": "stream",
     "text": [
      "<class 'numpy.ndarray'>\n",
      "(3263, 3624)\n"
     ]
    }
   ],
   "source": [
    "array_test = df_test.values\n",
    "x_test = array_test[:,0:c]   # feature values\n",
    "print(type(x_test))\n",
    "print(x_test.shape)"
   ]
  },
  {
   "cell_type": "markdown",
   "metadata": {},
   "source": [
    "# Bern NB PREDICTIONS#"
   ]
  },
  {
   "cell_type": "code",
   "execution_count": 59,
   "metadata": {},
   "outputs": [
    {
     "name": "stdout",
     "output_type": "stream",
     "text": [
      "<class 'list'>\n",
      "3263\n",
      "[1, 1, 1, 1, 1, 1, 0, 0, 0, 0]\n"
     ]
    }
   ],
   "source": [
    "bowBernModel =  BernoulliNB(alpha =  3.75)\n",
    "bowBernModel.fit(x_train, y_train)\n",
    "\n",
    "predictions = bowBernModel.predict(x_test)\n",
    "predictions_list = np.array(predictions).tolist()\n",
    "\n",
    "print(type(predictions_list))\n",
    "print(len(predictions_list))\n",
    "print(predictions_list[0:10])"
   ]
  },
  {
   "cell_type": "markdown",
   "metadata": {},
   "source": [
    "# PREPARE SUBMISSION FILE#"
   ]
  },
  {
   "cell_type": "code",
   "execution_count": 60,
   "metadata": {},
   "outputs": [
    {
     "name": "stdout",
     "output_type": "stream",
     "text": [
      "3263\n",
      "['0', '2', '3', '9', '11', '12', '21', '22', '27', '29']\n"
     ]
    }
   ],
   "source": [
    "DATA_FILE_TEST_ID = os.path.join(DATA_DIR, \"test_id.csv\")\n",
    "\n",
    "test_id_list = utils.csv_to_list_of_strings(DATA_FILE_TEST_ID)\n",
    "\n",
    "print(len(test_id_list))\n",
    "print(test_id_list[0:10])"
   ]
  },
  {
   "cell_type": "code",
   "execution_count": 61,
   "metadata": {},
   "outputs": [
    {
     "data": {
      "text/plain": [
       "(3263, 1)"
      ]
     },
     "execution_count": 61,
     "metadata": {},
     "output_type": "execute_result"
    }
   ],
   "source": [
    "df_test_id = utils.csv_to_dataframe(DATA_FILE_TEST_ID)\n",
    "df_test_id.shape"
   ]
  },
  {
   "cell_type": "code",
   "execution_count": 62,
   "metadata": {},
   "outputs": [
    {
     "data": {
      "text/plain": [
       "(3263, 1)"
      ]
     },
     "execution_count": 62,
     "metadata": {},
     "output_type": "execute_result"
    }
   ],
   "source": [
    "df_test_predict = pd.DataFrame({'col':predictions_list})\n",
    "df_test_predict.columns = ['target']\n",
    "df_test_predict.shape"
   ]
  },
  {
   "cell_type": "code",
   "execution_count": 63,
   "metadata": {},
   "outputs": [
    {
     "data": {
      "text/html": [
       "<div>\n",
       "<style scoped>\n",
       "    .dataframe tbody tr th:only-of-type {\n",
       "        vertical-align: middle;\n",
       "    }\n",
       "\n",
       "    .dataframe tbody tr th {\n",
       "        vertical-align: top;\n",
       "    }\n",
       "\n",
       "    .dataframe thead th {\n",
       "        text-align: right;\n",
       "    }\n",
       "</style>\n",
       "<table border=\"1\" class=\"dataframe\">\n",
       "  <thead>\n",
       "    <tr style=\"text-align: right;\">\n",
       "      <th></th>\n",
       "      <th>id</th>\n",
       "      <th>target</th>\n",
       "    </tr>\n",
       "  </thead>\n",
       "  <tbody>\n",
       "    <tr>\n",
       "      <td>0</td>\n",
       "      <td>0</td>\n",
       "      <td>1</td>\n",
       "    </tr>\n",
       "    <tr>\n",
       "      <td>1</td>\n",
       "      <td>2</td>\n",
       "      <td>1</td>\n",
       "    </tr>\n",
       "    <tr>\n",
       "      <td>2</td>\n",
       "      <td>3</td>\n",
       "      <td>1</td>\n",
       "    </tr>\n",
       "    <tr>\n",
       "      <td>3</td>\n",
       "      <td>9</td>\n",
       "      <td>1</td>\n",
       "    </tr>\n",
       "    <tr>\n",
       "      <td>4</td>\n",
       "      <td>11</td>\n",
       "      <td>1</td>\n",
       "    </tr>\n",
       "    <tr>\n",
       "      <td>5</td>\n",
       "      <td>12</td>\n",
       "      <td>1</td>\n",
       "    </tr>\n",
       "    <tr>\n",
       "      <td>6</td>\n",
       "      <td>21</td>\n",
       "      <td>0</td>\n",
       "    </tr>\n",
       "    <tr>\n",
       "      <td>7</td>\n",
       "      <td>22</td>\n",
       "      <td>0</td>\n",
       "    </tr>\n",
       "    <tr>\n",
       "      <td>8</td>\n",
       "      <td>27</td>\n",
       "      <td>0</td>\n",
       "    </tr>\n",
       "    <tr>\n",
       "      <td>9</td>\n",
       "      <td>29</td>\n",
       "      <td>0</td>\n",
       "    </tr>\n",
       "  </tbody>\n",
       "</table>\n",
       "</div>"
      ],
      "text/plain": [
       "   id  target\n",
       "0   0       1\n",
       "1   2       1\n",
       "2   3       1\n",
       "3   9       1\n",
       "4  11       1\n",
       "5  12       1\n",
       "6  21       0\n",
       "7  22       0\n",
       "8  27       0\n",
       "9  29       0"
      ]
     },
     "execution_count": 63,
     "metadata": {},
     "output_type": "execute_result"
    }
   ],
   "source": [
    "df_submit = pd.concat([df_test_id, df_test_predict], axis=1)\n",
    "df_submit.head(10)"
   ]
  },
  {
   "cell_type": "code",
   "execution_count": 64,
   "metadata": {},
   "outputs": [],
   "source": [
    "DATA_FILE_SUBMIT = os.path.join(DATA_DIR, \"submissionBernBow375.csv\")\n",
    "\n",
    "utils.dataframe_to_csv(df_submit, DATA_FILE_SUBMIT)"
   ]
  },
  {
   "cell_type": "code",
   "execution_count": null,
   "metadata": {},
   "outputs": [],
   "source": []
  }
 ],
 "metadata": {
  "kernelspec": {
   "display_name": "Python 3",
   "language": "python",
   "name": "python3"
  },
  "language_info": {
   "codemirror_mode": {
    "name": "ipython",
    "version": 3
   },
   "file_extension": ".py",
   "mimetype": "text/x-python",
   "name": "python",
   "nbconvert_exporter": "python",
   "pygments_lexer": "ipython3",
   "version": "3.7.4"
  }
 },
 "nbformat": 4,
 "nbformat_minor": 2
}
